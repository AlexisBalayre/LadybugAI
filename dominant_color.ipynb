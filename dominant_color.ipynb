{
 "cells": [
  {
   "cell_type": "code",
   "execution_count": 2,
   "metadata": {},
   "outputs": [],
   "source": [
    "import pandas as pd\n",
    "import numpy as np\n",
    "import matplotlib.image as mpimg\n",
    "from collections import Counter\n",
    "from sklearn.metrics import classification_report\n",
    "from sklearn.model_selection import train_test_split\n",
    "from sklearn.preprocessing import LabelEncoder\n",
    "from sklearn.ensemble import RandomForestClassifier\n",
    "import pickle\n",
    "import warnings\n",
    "\n",
    "warnings.filterwarnings('ignore')"
   ]
  },
  {
   "cell_type": "code",
   "execution_count": 2,
   "metadata": {},
   "outputs": [],
   "source": [
    "# Function to extract the average color of the elytre\n",
    "def extract_avg_color(image_seg_path, img_paths):\n",
    "    img = mpimg.imread(image_seg_path)\n",
    "    #count the number of each unique pixel value in the image\n",
    "    counts = Counter(img.flatten())\n",
    "    counts_list = [key for key, _ in counts.most_common()]\n",
    "    img[img == counts_list[0]] = 0\n",
    "    #put everything else to 0 except the elytre\n",
    "    img[img != counts_list[1]] = 0\n",
    "\n",
    "    img[img != 0] = 1\n",
    "    img = img*255\n",
    "    img = np.expand_dims(img, axis=2)\n",
    "    img = np.repeat(img, 3, axis=2)\n",
    "    #apply the mask to the original image\n",
    "    img = img * mpimg.imread(img_paths)\n",
    "    img = np.array(img)  # Convertir en array numpy pour le calcul\n",
    "    avg_color_per_row = np.average(img, axis=0)\n",
    "    avg_color = np.average(avg_color_per_row, axis=0)[:3]  # Ignorer le canal alpha\n",
    "    avg_color_str = ', '.join([str(c) for c in avg_color])\n",
    "    return avg_color_str"
   ]
  },
  {
   "cell_type": "code",
   "execution_count": 3,
   "metadata": {},
   "outputs": [],
   "source": [
    "df = pd.read_csv('training_labels_200.csv')\n",
    "image_ids = df['Image_id'].values"
   ]
  },
  {
   "cell_type": "code",
   "execution_count": 4,
   "metadata": {},
   "outputs": [],
   "source": [
    "img_paths = '/Users/alexis/Programmation/ai-project/data/training/im_seg/'\n",
    "\n",
    "list_spot = []\n",
    "list_mean_radius = []\n",
    "\n",
    "for i,image_id in enumerate(image_ids):\n",
    "    image_seg_path = img_paths + image_id +'_seg' + '.png'\n",
    "    image_path = img_paths + image_id +'_im'+'.png'\n",
    "    avg_color = extract_avg_color(image_seg_path, image_path)\n",
    "    df.loc[i, 'avg_color'] = avg_color"
   ]
  },
  {
   "cell_type": "code",
   "execution_count": 5,
   "metadata": {},
   "outputs": [],
   "source": [
    "#entrainemt d'un model pour predire la couleur des elytre\n",
    "le = LabelEncoder()\n",
    "df['Color_Encoded'] = le.fit_transform(df['Color'])\n",
    "\n",
    "average_colors = np.array([np.fromstring(i, sep=',') for i in df['avg_color'].values])\n",
    "color_labels = df['Color'].values"
   ]
  },
  {
   "cell_type": "code",
   "execution_count": 6,
   "metadata": {},
   "outputs": [
    {
     "name": "stdout",
     "output_type": "stream",
     "text": [
      "accuracy :  0.8\n"
     ]
    }
   ],
   "source": [
    "X_train, X_test, y_train, y_test = train_test_split(average_colors, color_labels, test_size=0.2, random_state=42)\n",
    "# Créer et entraîner le classificateur\n",
    "clf = RandomForestClassifier()\n",
    "clf.fit(X_train, y_train)\n",
    "\n",
    "# Prédire les labels de couleur sur les données de test\n",
    "y_pred = clf.predict(X_test)\n",
    "\n",
    "# Calculer la précision\n",
    "from sklearn.metrics import accuracy_score\n",
    "accuracy_score(y_test, y_pred)\n",
    "print('accuracy : ', accuracy_score(y_test, y_pred))"
   ]
  },
  {
   "cell_type": "code",
   "execution_count": 7,
   "metadata": {},
   "outputs": [
    {
     "name": "stdout",
     "output_type": "stream",
     "text": [
      "              precision    recall  f1-score   support\n",
      "\n",
      "           B       1.00      0.75      0.86         4\n",
      "           O       0.67      0.86      0.75        14\n",
      "           R       0.89      0.77      0.83        22\n",
      "\n",
      "    accuracy                           0.80        40\n",
      "   macro avg       0.85      0.79      0.81        40\n",
      "weighted avg       0.83      0.80      0.80        40\n",
      "\n"
     ]
    }
   ],
   "source": [
    "print(classification_report(y_test, y_pred))"
   ]
  },
  {
   "cell_type": "code",
   "execution_count": 8,
   "metadata": {},
   "outputs": [],
   "source": [
    "# Sauvegarder le modèle\n",
    "with open('finalized_color_model.sav', 'wb') as f:\n",
    "    pickle.dump(clf, f)\n",
    "\n",
    "# Sauvegarder le LabelEncoder\n",
    "with open('label_encoder.pkl', 'wb') as f:\n",
    "    pickle.dump(le, f)"
   ]
  }
 ],
 "metadata": {
  "kernelspec": {
   "display_name": "base",
   "language": "python",
   "name": "python3"
  },
  "language_info": {
   "codemirror_mode": {
    "name": "ipython",
    "version": 3
   },
   "file_extension": ".py",
   "mimetype": "text/x-python",
   "name": "python",
   "nbconvert_exporter": "python",
   "pygments_lexer": "ipython3",
   "version": "3.11.7"
  },
  "orig_nbformat": 4
 },
 "nbformat": 4,
 "nbformat_minor": 2
}
